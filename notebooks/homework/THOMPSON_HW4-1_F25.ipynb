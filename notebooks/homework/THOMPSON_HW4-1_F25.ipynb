{
  "cells": [
    {
      "cell_type": "markdown",
      "metadata": {
        "id": "view-in-github",
        "colab_type": "text"
      },
      "source": [
        "<a href=\"https://colab.research.google.com/github/annabelthomp/writt20833/blob/main/notebooks/homework/WRIT20833_HW4-1_Term_Frequency_Sentiment_F25.ipynb\" target=\"_parent\"><img src=\"https://colab.research.google.com/assets/colab-badge.svg\" alt=\"Open In Colab\"/></a>"
      ]
    },
    {
      "cell_type": "markdown",
      "metadata": {
        "id": "NsZWdhQibPJm"
      },
      "source": [
        "<a href=\"https://colab.research.google.com/github/TCU-DCDA/WRIT20833-2025/blob/main/notebooks/homework/WRIT20833_HW4-1_Term_Frequency_Sentiment_F25.ipynb\" target=\"_parent\"><img src=\"https://colab.research.google.com/assets/colab-badge.svg\" alt=\"Open In Colab\"/></a>"
      ]
    },
    {
      "cell_type": "markdown",
      "metadata": {
        "id": "GzCIazjRbPJn"
      },
      "source": [
        "# HW4-1: Term Frequency and Sentiment Analysis\n",
        "**Due: October 5th**  \n",
        "**Intro to Coding in the Humanities - Midterm Assignment Part 1**\n",
        "\n",
        "**Student Name:** Annabel Thompson\n",
        "\n",
        "**Upload:** `LASTNAME_HW4-1_F25.ipynb`\n",
        "\n",
        "---\n",
        "\n",
        "## Assignment Overview\n",
        "\n",
        "This assignment marks your first extensive analysis of a text-heavy dataset of your choosing. The goal is not just to run analytical tools, but to experience the process of moving from assumptions to data-driven insights. You'll practice forming hypotheses, testing them against actual data, and allowing your understanding to evolve based on what you discover.\n",
        "\n",
        "In our digital age, we're constantly exposed to two very different paths to forming opinions and understanding the world. One path leads from genuine phenomena through careful data collection and analysis toward real insight, knowledge, and wisdom. The other path starts with social media impressions and moves through cherry-picked evidence and narrative scaffolding toward rigid ideological positions. Through this assignment, you'll experience the first path—the harder but more rewarding journey of letting data challenge and refine your thinking.\n",
        "\n",
        "**Important Philosophy**: Being \"wrong\" in your initial predictions is not a failure—it's a sign of genuine learning and intellectual growth. The best insights often come from discovering that reality differs from our assumptions. When your data surprises you, that's when real learning happens.\n",
        "\n",
        "**Collaboration Policy**: You may work together with classmates to solve technical challenges and discuss methods, but each student must choose their own unique dataset and complete their own analysis."
      ]
    },
    {
      "cell_type": "markdown",
      "metadata": {
        "id": "8DEM82FybPJn"
      },
      "source": [
        "## Step 1: Dataset Loading and Initial Exploration\n",
        "*Moving from Scraped Data to Analysis-Ready Dataset*\n",
        "\n",
        "### Loading Your Cultural Dataset\n",
        "\n",
        "You'll use the cultural dataset you collected using the Instant Data Scraper in our previous lesson. This should be a CSV file with rich text content suitable for both term frequency and sentiment analysis."
      ]
    },
    {
      "cell_type": "code",
      "execution_count": 5,
      "metadata": {
        "colab": {
          "base_uri": "https://localhost:8080/"
        },
        "id": "1WOlg0GlbPJn",
        "outputId": "22d78f03-45d5-4eed-cba7-429d57001e7a"
      },
      "outputs": [
        {
          "output_type": "stream",
          "name": "stdout",
          "text": [
            "📚 Libraries imported - ready for analysis!\n"
          ]
        }
      ],
      "source": [
        "# Setup: Import all libraries we'll need\n",
        "import pandas as pd\n",
        "import matplotlib.pyplot as plt\n",
        "import numpy as np\n",
        "from collections import Counter\n",
        "import re\n",
        "\n",
        "# Display settings for better output\n",
        "pd.options.display.max_rows = 20\n",
        "pd.options.display.max_columns = 10\n",
        "\n",
        "print(\"📚 Libraries imported - ready for analysis!\")"
      ]
    },
    {
      "cell_type": "code",
      "execution_count": 7,
      "metadata": {
        "colab": {
          "base_uri": "https://localhost:8080/",
          "height": 107
        },
        "id": "oijddB1ZbPJo",
        "outputId": "21e0b1bb-4afe-4d2a-ada0-347357a67733"
      },
      "outputs": [
        {
          "output_type": "display_data",
          "data": {
            "text/plain": [
              "<IPython.core.display.HTML object>"
            ],
            "text/html": [
              "\n",
              "     <input type=\"file\" id=\"files-7bd7712a-51c6-4946-bdab-db7f8212f5e5\" name=\"files[]\" multiple disabled\n",
              "        style=\"border:none\" />\n",
              "     <output id=\"result-7bd7712a-51c6-4946-bdab-db7f8212f5e5\">\n",
              "      Upload widget is only available when the cell has been executed in the\n",
              "      current browser session. Please rerun this cell to enable.\n",
              "      </output>\n",
              "      <script>// Copyright 2017 Google LLC\n",
              "//\n",
              "// Licensed under the Apache License, Version 2.0 (the \"License\");\n",
              "// you may not use this file except in compliance with the License.\n",
              "// You may obtain a copy of the License at\n",
              "//\n",
              "//      http://www.apache.org/licenses/LICENSE-2.0\n",
              "//\n",
              "// Unless required by applicable law or agreed to in writing, software\n",
              "// distributed under the License is distributed on an \"AS IS\" BASIS,\n",
              "// WITHOUT WARRANTIES OR CONDITIONS OF ANY KIND, either express or implied.\n",
              "// See the License for the specific language governing permissions and\n",
              "// limitations under the License.\n",
              "\n",
              "/**\n",
              " * @fileoverview Helpers for google.colab Python module.\n",
              " */\n",
              "(function(scope) {\n",
              "function span(text, styleAttributes = {}) {\n",
              "  const element = document.createElement('span');\n",
              "  element.textContent = text;\n",
              "  for (const key of Object.keys(styleAttributes)) {\n",
              "    element.style[key] = styleAttributes[key];\n",
              "  }\n",
              "  return element;\n",
              "}\n",
              "\n",
              "// Max number of bytes which will be uploaded at a time.\n",
              "const MAX_PAYLOAD_SIZE = 100 * 1024;\n",
              "\n",
              "function _uploadFiles(inputId, outputId) {\n",
              "  const steps = uploadFilesStep(inputId, outputId);\n",
              "  const outputElement = document.getElementById(outputId);\n",
              "  // Cache steps on the outputElement to make it available for the next call\n",
              "  // to uploadFilesContinue from Python.\n",
              "  outputElement.steps = steps;\n",
              "\n",
              "  return _uploadFilesContinue(outputId);\n",
              "}\n",
              "\n",
              "// This is roughly an async generator (not supported in the browser yet),\n",
              "// where there are multiple asynchronous steps and the Python side is going\n",
              "// to poll for completion of each step.\n",
              "// This uses a Promise to block the python side on completion of each step,\n",
              "// then passes the result of the previous step as the input to the next step.\n",
              "function _uploadFilesContinue(outputId) {\n",
              "  const outputElement = document.getElementById(outputId);\n",
              "  const steps = outputElement.steps;\n",
              "\n",
              "  const next = steps.next(outputElement.lastPromiseValue);\n",
              "  return Promise.resolve(next.value.promise).then((value) => {\n",
              "    // Cache the last promise value to make it available to the next\n",
              "    // step of the generator.\n",
              "    outputElement.lastPromiseValue = value;\n",
              "    return next.value.response;\n",
              "  });\n",
              "}\n",
              "\n",
              "/**\n",
              " * Generator function which is called between each async step of the upload\n",
              " * process.\n",
              " * @param {string} inputId Element ID of the input file picker element.\n",
              " * @param {string} outputId Element ID of the output display.\n",
              " * @return {!Iterable<!Object>} Iterable of next steps.\n",
              " */\n",
              "function* uploadFilesStep(inputId, outputId) {\n",
              "  const inputElement = document.getElementById(inputId);\n",
              "  inputElement.disabled = false;\n",
              "\n",
              "  const outputElement = document.getElementById(outputId);\n",
              "  outputElement.innerHTML = '';\n",
              "\n",
              "  const pickedPromise = new Promise((resolve) => {\n",
              "    inputElement.addEventListener('change', (e) => {\n",
              "      resolve(e.target.files);\n",
              "    });\n",
              "  });\n",
              "\n",
              "  const cancel = document.createElement('button');\n",
              "  inputElement.parentElement.appendChild(cancel);\n",
              "  cancel.textContent = 'Cancel upload';\n",
              "  const cancelPromise = new Promise((resolve) => {\n",
              "    cancel.onclick = () => {\n",
              "      resolve(null);\n",
              "    };\n",
              "  });\n",
              "\n",
              "  // Wait for the user to pick the files.\n",
              "  const files = yield {\n",
              "    promise: Promise.race([pickedPromise, cancelPromise]),\n",
              "    response: {\n",
              "      action: 'starting',\n",
              "    }\n",
              "  };\n",
              "\n",
              "  cancel.remove();\n",
              "\n",
              "  // Disable the input element since further picks are not allowed.\n",
              "  inputElement.disabled = true;\n",
              "\n",
              "  if (!files) {\n",
              "    return {\n",
              "      response: {\n",
              "        action: 'complete',\n",
              "      }\n",
              "    };\n",
              "  }\n",
              "\n",
              "  for (const file of files) {\n",
              "    const li = document.createElement('li');\n",
              "    li.append(span(file.name, {fontWeight: 'bold'}));\n",
              "    li.append(span(\n",
              "        `(${file.type || 'n/a'}) - ${file.size} bytes, ` +\n",
              "        `last modified: ${\n",
              "            file.lastModifiedDate ? file.lastModifiedDate.toLocaleDateString() :\n",
              "                                    'n/a'} - `));\n",
              "    const percent = span('0% done');\n",
              "    li.appendChild(percent);\n",
              "\n",
              "    outputElement.appendChild(li);\n",
              "\n",
              "    const fileDataPromise = new Promise((resolve) => {\n",
              "      const reader = new FileReader();\n",
              "      reader.onload = (e) => {\n",
              "        resolve(e.target.result);\n",
              "      };\n",
              "      reader.readAsArrayBuffer(file);\n",
              "    });\n",
              "    // Wait for the data to be ready.\n",
              "    let fileData = yield {\n",
              "      promise: fileDataPromise,\n",
              "      response: {\n",
              "        action: 'continue',\n",
              "      }\n",
              "    };\n",
              "\n",
              "    // Use a chunked sending to avoid message size limits. See b/62115660.\n",
              "    let position = 0;\n",
              "    do {\n",
              "      const length = Math.min(fileData.byteLength - position, MAX_PAYLOAD_SIZE);\n",
              "      const chunk = new Uint8Array(fileData, position, length);\n",
              "      position += length;\n",
              "\n",
              "      const base64 = btoa(String.fromCharCode.apply(null, chunk));\n",
              "      yield {\n",
              "        response: {\n",
              "          action: 'append',\n",
              "          file: file.name,\n",
              "          data: base64,\n",
              "        },\n",
              "      };\n",
              "\n",
              "      let percentDone = fileData.byteLength === 0 ?\n",
              "          100 :\n",
              "          Math.round((position / fileData.byteLength) * 100);\n",
              "      percent.textContent = `${percentDone}% done`;\n",
              "\n",
              "    } while (position < fileData.byteLength);\n",
              "  }\n",
              "\n",
              "  // All done.\n",
              "  yield {\n",
              "    response: {\n",
              "      action: 'complete',\n",
              "    }\n",
              "  };\n",
              "}\n",
              "\n",
              "scope.google = scope.google || {};\n",
              "scope.google.colab = scope.google.colab || {};\n",
              "scope.google.colab._files = {\n",
              "  _uploadFiles,\n",
              "  _uploadFilesContinue,\n",
              "};\n",
              "})(self);\n",
              "</script> "
            ]
          },
          "metadata": {}
        },
        {
          "output_type": "stream",
          "name": "stdout",
          "text": [
            "Saving imdb_robots.csv to imdb_robots (1).csv\n",
            "✅ Dataset loaded successfully from imdb_robots (1).csv!\n",
            "Dataset contains 47 items\n"
          ]
        }
      ],
      "source": [
        "# Load your scraped cultural data\n",
        "# Replace 'your_filename.csv' with your actual file name\n",
        "\n",
        "# If you're in Google Colab, upload your file first:\n",
        "# from google.colab import files\n",
        "# uploaded = files.upload()\n",
        "\n",
        "# Load your data (fill in your filename)\n",
        "df = pd.read_csv('/mnt/data/Thompson_HW4_1_cleaned_data.csv')  # Replace with your CSV filename\n",
        "\n",
        "print(f\"✅ Dataset loaded successfully!\")\n",
        "print(f\"Dataset contains {len(df)} items\")"
      ]
    },
    {
      "cell_type": "markdown",
      "metadata": {
        "id": "7LZEKVbcbPJo"
      },
      "source": [
        "### Technical Checkpoint 1: Data Loading Reality Check"
      ]
    },
    {
      "cell_type": "code",
      "execution_count": 9,
      "metadata": {
        "colab": {
          "base_uri": "https://localhost:8080/"
        },
        "id": "IQ-_mTJ5bPJo",
        "outputId": "f91d64a8-d5ed-4115-bcf5-819327051b93"
      },
      "outputs": [
        {
          "output_type": "stream",
          "name": "stdout",
          "text": [
            "Dataset shape: (47, 2)\n",
            "Columns: ['User-agent', 'Disallow']\n",
            "Text column has 0 missing values\n",
            "Sample text: /OnThisDay\n"
          ]
        }
      ],
      "source": [
        "# Checkpoint 1: Verify your data loaded correctly\n",
        "print(f\"Dataset shape: {df.shape}\")\n",
        "print(f\"Columns: {df.columns.tolist()}\")\n",
        "\n",
        "# Replace 'YOUR_TEXT_COLUMN' with your actual text column name\n",
        "text_column = 'Disallow'  # Fill in your main text column name based on the available columns\n",
        "\n",
        "print(f\"Text column has {df[text_column].isna().sum()} missing values\")\n",
        "print(f\"Sample text: {df[text_column].iloc[0][:200]}\")"
      ]
    },
    {
      "cell_type": "code",
      "execution_count": 10,
      "metadata": {
        "colab": {
          "base_uri": "https://localhost:8080/",
          "height": 362
        },
        "id": "YJ05Ya_rbPJo",
        "outputId": "27d3da41-ca0c-48cc-c91d-a4c4302d677e"
      },
      "outputs": [
        {
          "output_type": "stream",
          "name": "stdout",
          "text": [
            "=== DATASET EXPLORATION ===\n",
            "Total entries: 47\n",
            "\n",
            "Data types:\n",
            "User-agent    object\n",
            "Disallow      object\n",
            "dtype: object\n",
            "\n",
            "First few rows:\n"
          ]
        },
        {
          "output_type": "execute_result",
          "data": {
            "text/plain": [
              "  User-agent      Disallow\n",
              "0          *    /OnThisDay\n",
              "1          *  /*/OnThisDay\n",
              "2          *         /ads/\n",
              "3          *       /*/ads/\n",
              "4          *          /ap/"
            ],
            "text/html": [
              "\n",
              "  <div id=\"df-5f6e3230-03a0-4452-aa75-7cd2177a12b4\" class=\"colab-df-container\">\n",
              "    <div>\n",
              "<style scoped>\n",
              "    .dataframe tbody tr th:only-of-type {\n",
              "        vertical-align: middle;\n",
              "    }\n",
              "\n",
              "    .dataframe tbody tr th {\n",
              "        vertical-align: top;\n",
              "    }\n",
              "\n",
              "    .dataframe thead th {\n",
              "        text-align: right;\n",
              "    }\n",
              "</style>\n",
              "<table border=\"1\" class=\"dataframe\">\n",
              "  <thead>\n",
              "    <tr style=\"text-align: right;\">\n",
              "      <th></th>\n",
              "      <th>User-agent</th>\n",
              "      <th>Disallow</th>\n",
              "    </tr>\n",
              "  </thead>\n",
              "  <tbody>\n",
              "    <tr>\n",
              "      <th>0</th>\n",
              "      <td>*</td>\n",
              "      <td>/OnThisDay</td>\n",
              "    </tr>\n",
              "    <tr>\n",
              "      <th>1</th>\n",
              "      <td>*</td>\n",
              "      <td>/*/OnThisDay</td>\n",
              "    </tr>\n",
              "    <tr>\n",
              "      <th>2</th>\n",
              "      <td>*</td>\n",
              "      <td>/ads/</td>\n",
              "    </tr>\n",
              "    <tr>\n",
              "      <th>3</th>\n",
              "      <td>*</td>\n",
              "      <td>/*/ads/</td>\n",
              "    </tr>\n",
              "    <tr>\n",
              "      <th>4</th>\n",
              "      <td>*</td>\n",
              "      <td>/ap/</td>\n",
              "    </tr>\n",
              "  </tbody>\n",
              "</table>\n",
              "</div>\n",
              "    <div class=\"colab-df-buttons\">\n",
              "\n",
              "  <div class=\"colab-df-container\">\n",
              "    <button class=\"colab-df-convert\" onclick=\"convertToInteractive('df-5f6e3230-03a0-4452-aa75-7cd2177a12b4')\"\n",
              "            title=\"Convert this dataframe to an interactive table.\"\n",
              "            style=\"display:none;\">\n",
              "\n",
              "  <svg xmlns=\"http://www.w3.org/2000/svg\" height=\"24px\" viewBox=\"0 -960 960 960\">\n",
              "    <path d=\"M120-120v-720h720v720H120Zm60-500h600v-160H180v160Zm220 220h160v-160H400v160Zm0 220h160v-160H400v160ZM180-400h160v-160H180v160Zm440 0h160v-160H620v160ZM180-180h160v-160H180v160Zm440 0h160v-160H620v160Z\"/>\n",
              "  </svg>\n",
              "    </button>\n",
              "\n",
              "  <style>\n",
              "    .colab-df-container {\n",
              "      display:flex;\n",
              "      gap: 12px;\n",
              "    }\n",
              "\n",
              "    .colab-df-convert {\n",
              "      background-color: #E8F0FE;\n",
              "      border: none;\n",
              "      border-radius: 50%;\n",
              "      cursor: pointer;\n",
              "      display: none;\n",
              "      fill: #1967D2;\n",
              "      height: 32px;\n",
              "      padding: 0 0 0 0;\n",
              "      width: 32px;\n",
              "    }\n",
              "\n",
              "    .colab-df-convert:hover {\n",
              "      background-color: #E2EBFA;\n",
              "      box-shadow: 0px 1px 2px rgba(60, 64, 67, 0.3), 0px 1px 3px 1px rgba(60, 64, 67, 0.15);\n",
              "      fill: #174EA6;\n",
              "    }\n",
              "\n",
              "    .colab-df-buttons div {\n",
              "      margin-bottom: 4px;\n",
              "    }\n",
              "\n",
              "    [theme=dark] .colab-df-convert {\n",
              "      background-color: #3B4455;\n",
              "      fill: #D2E3FC;\n",
              "    }\n",
              "\n",
              "    [theme=dark] .colab-df-convert:hover {\n",
              "      background-color: #434B5C;\n",
              "      box-shadow: 0px 1px 3px 1px rgba(0, 0, 0, 0.15);\n",
              "      filter: drop-shadow(0px 1px 2px rgba(0, 0, 0, 0.3));\n",
              "      fill: #FFFFFF;\n",
              "    }\n",
              "  </style>\n",
              "\n",
              "    <script>\n",
              "      const buttonEl =\n",
              "        document.querySelector('#df-5f6e3230-03a0-4452-aa75-7cd2177a12b4 button.colab-df-convert');\n",
              "      buttonEl.style.display =\n",
              "        google.colab.kernel.accessAllowed ? 'block' : 'none';\n",
              "\n",
              "      async function convertToInteractive(key) {\n",
              "        const element = document.querySelector('#df-5f6e3230-03a0-4452-aa75-7cd2177a12b4');\n",
              "        const dataTable =\n",
              "          await google.colab.kernel.invokeFunction('convertToInteractive',\n",
              "                                                    [key], {});\n",
              "        if (!dataTable) return;\n",
              "\n",
              "        const docLinkHtml = 'Like what you see? Visit the ' +\n",
              "          '<a target=\"_blank\" href=https://colab.research.google.com/notebooks/data_table.ipynb>data table notebook</a>'\n",
              "          + ' to learn more about interactive tables.';\n",
              "        element.innerHTML = '';\n",
              "        dataTable['output_type'] = 'display_data';\n",
              "        await google.colab.output.renderOutput(dataTable, element);\n",
              "        const docLink = document.createElement('div');\n",
              "        docLink.innerHTML = docLinkHtml;\n",
              "        element.appendChild(docLink);\n",
              "      }\n",
              "    </script>\n",
              "  </div>\n",
              "\n",
              "\n",
              "    <div id=\"df-10f40509-bead-455d-ab54-f4d6e698b4b4\">\n",
              "      <button class=\"colab-df-quickchart\" onclick=\"quickchart('df-10f40509-bead-455d-ab54-f4d6e698b4b4')\"\n",
              "                title=\"Suggest charts\"\n",
              "                style=\"display:none;\">\n",
              "\n",
              "<svg xmlns=\"http://www.w3.org/2000/svg\" height=\"24px\"viewBox=\"0 0 24 24\"\n",
              "     width=\"24px\">\n",
              "    <g>\n",
              "        <path d=\"M19 3H5c-1.1 0-2 .9-2 2v14c0 1.1.9 2 2 2h14c1.1 0 2-.9 2-2V5c0-1.1-.9-2-2-2zM9 17H7v-7h2v7zm4 0h-2V7h2v10zm4 0h-2v-4h2v4z\"/>\n",
              "    </g>\n",
              "</svg>\n",
              "      </button>\n",
              "\n",
              "<style>\n",
              "  .colab-df-quickchart {\n",
              "      --bg-color: #E8F0FE;\n",
              "      --fill-color: #1967D2;\n",
              "      --hover-bg-color: #E2EBFA;\n",
              "      --hover-fill-color: #174EA6;\n",
              "      --disabled-fill-color: #AAA;\n",
              "      --disabled-bg-color: #DDD;\n",
              "  }\n",
              "\n",
              "  [theme=dark] .colab-df-quickchart {\n",
              "      --bg-color: #3B4455;\n",
              "      --fill-color: #D2E3FC;\n",
              "      --hover-bg-color: #434B5C;\n",
              "      --hover-fill-color: #FFFFFF;\n",
              "      --disabled-bg-color: #3B4455;\n",
              "      --disabled-fill-color: #666;\n",
              "  }\n",
              "\n",
              "  .colab-df-quickchart {\n",
              "    background-color: var(--bg-color);\n",
              "    border: none;\n",
              "    border-radius: 50%;\n",
              "    cursor: pointer;\n",
              "    display: none;\n",
              "    fill: var(--fill-color);\n",
              "    height: 32px;\n",
              "    padding: 0;\n",
              "    width: 32px;\n",
              "  }\n",
              "\n",
              "  .colab-df-quickchart:hover {\n",
              "    background-color: var(--hover-bg-color);\n",
              "    box-shadow: 0 1px 2px rgba(60, 64, 67, 0.3), 0 1px 3px 1px rgba(60, 64, 67, 0.15);\n",
              "    fill: var(--button-hover-fill-color);\n",
              "  }\n",
              "\n",
              "  .colab-df-quickchart-complete:disabled,\n",
              "  .colab-df-quickchart-complete:disabled:hover {\n",
              "    background-color: var(--disabled-bg-color);\n",
              "    fill: var(--disabled-fill-color);\n",
              "    box-shadow: none;\n",
              "  }\n",
              "\n",
              "  .colab-df-spinner {\n",
              "    border: 2px solid var(--fill-color);\n",
              "    border-color: transparent;\n",
              "    border-bottom-color: var(--fill-color);\n",
              "    animation:\n",
              "      spin 1s steps(1) infinite;\n",
              "  }\n",
              "\n",
              "  @keyframes spin {\n",
              "    0% {\n",
              "      border-color: transparent;\n",
              "      border-bottom-color: var(--fill-color);\n",
              "      border-left-color: var(--fill-color);\n",
              "    }\n",
              "    20% {\n",
              "      border-color: transparent;\n",
              "      border-left-color: var(--fill-color);\n",
              "      border-top-color: var(--fill-color);\n",
              "    }\n",
              "    30% {\n",
              "      border-color: transparent;\n",
              "      border-left-color: var(--fill-color);\n",
              "      border-top-color: var(--fill-color);\n",
              "      border-right-color: var(--fill-color);\n",
              "    }\n",
              "    40% {\n",
              "      border-color: transparent;\n",
              "      border-right-color: var(--fill-color);\n",
              "      border-top-color: var(--fill-color);\n",
              "    }\n",
              "    60% {\n",
              "      border-color: transparent;\n",
              "      border-right-color: var(--fill-color);\n",
              "    }\n",
              "    80% {\n",
              "      border-color: transparent;\n",
              "      border-right-color: var(--fill-color);\n",
              "      border-bottom-color: var(--fill-color);\n",
              "    }\n",
              "    90% {\n",
              "      border-color: transparent;\n",
              "      border-bottom-color: var(--fill-color);\n",
              "    }\n",
              "  }\n",
              "</style>\n",
              "\n",
              "      <script>\n",
              "        async function quickchart(key) {\n",
              "          const quickchartButtonEl =\n",
              "            document.querySelector('#' + key + ' button');\n",
              "          quickchartButtonEl.disabled = true;  // To prevent multiple clicks.\n",
              "          quickchartButtonEl.classList.add('colab-df-spinner');\n",
              "          try {\n",
              "            const charts = await google.colab.kernel.invokeFunction(\n",
              "                'suggestCharts', [key], {});\n",
              "          } catch (error) {\n",
              "            console.error('Error during call to suggestCharts:', error);\n",
              "          }\n",
              "          quickchartButtonEl.classList.remove('colab-df-spinner');\n",
              "          quickchartButtonEl.classList.add('colab-df-quickchart-complete');\n",
              "        }\n",
              "        (() => {\n",
              "          let quickchartButtonEl =\n",
              "            document.querySelector('#df-10f40509-bead-455d-ab54-f4d6e698b4b4 button');\n",
              "          quickchartButtonEl.style.display =\n",
              "            google.colab.kernel.accessAllowed ? 'block' : 'none';\n",
              "        })();\n",
              "      </script>\n",
              "    </div>\n",
              "\n",
              "    </div>\n",
              "  </div>\n"
            ],
            "application/vnd.google.colaboratory.intrinsic+json": {
              "type": "dataframe",
              "variable_name": "df",
              "summary": "{\n  \"name\": \"df\",\n  \"rows\": 47,\n  \"fields\": [\n    {\n      \"column\": \"User-agent\",\n      \"properties\": {\n        \"dtype\": \"category\",\n        \"num_unique_values\": 10,\n        \"samples\": [\n          \"GPTBot\",\n          \"Baiduspider\",\n          \"CCbot\"\n        ],\n        \"semantic_type\": \"\",\n        \"description\": \"\"\n      }\n    },\n    {\n      \"column\": \"Disallow\",\n      \"properties\": {\n        \"dtype\": \"string\",\n        \"num_unique_values\": 41,\n        \"samples\": [\n          \"/search/title/?title_type=feature,tv_movie,tv_miniseries,documentary,short,video,tv_short&release_date=,2020-12-31&lists=%21ls538187658,%21ls539867036,%21ls538186228&view=simple&sort=num_votes,asc&aft\",\n          \"/*/search/name-text\",\n          \"/register\"\n        ],\n        \"semantic_type\": \"\",\n        \"description\": \"\"\n      }\n    }\n  ]\n}"
            }
          },
          "metadata": {},
          "execution_count": 10
        }
      ],
      "source": [
        "# Explore your dataset structure\n",
        "print(\"=== DATASET EXPLORATION ===\")\n",
        "print(f\"Total entries: {len(df)}\")\n",
        "print(f\"\\nData types:\")\n",
        "print(df.dtypes)\n",
        "print(f\"\\nFirst few rows:\")\n",
        "df.head()"
      ]
    },
    {
      "cell_type": "markdown",
      "metadata": {
        "id": "a6mHHCDrbPJo"
      },
      "source": [
        "### Initial Predictions\n",
        "\n",
        "Before analyzing your data, record your predictions. This is like forming \"first impressions\" from HW1, but now for both word frequency AND sentiment patterns.\n",
        "\n",
        "**Examples to model your thinking:**\n",
        "- *Restaurant reviews*: \"I predict negative reviews will focus on 'slow,' 'cold,' and 'rude' while positive reviews will emphasize 'fresh,' 'friendly,' and 'delicious.' I expect about 60% positive sentiment overall.\"\n",
        "- *Museum reviews*: \"I predict frequent words like 'interesting,' 'beautiful,' and 'educational' with mostly positive sentiment, but some complaints about 'crowded' or 'expensive.'\""
      ]
    },
    {
      "cell_type": "markdown",
      "metadata": {
        "id": "R8wieXqvbPJo"
      },
      "source": [
        "### 📝 My Initial Predictions:\n",
        "\n",
        "**Dataset Description:** I scraped IMDbs robots.txt file. It lists which bots are blocked from accessing certain parts of the site. I chose it to study web restrictions and bot policies.\n",
        "\n",
        "\n",
        "**Term Frequency Predictions:** I expect “Disallow,” “User-agent,” and “/find” to appear the most often. Paths like “search,” “user,” and “registration” will also repeat.\n",
        "\n",
        "\n",
        "**Sentiment Predictions:** The tone will be neutral and technical. Its about control, not emotion.\n",
        "\n",
        "\n",
        "**Most Confident Prediction:** The “*” user-agent group will have the most disallow rules. The word “Disallow” will be the most frequent term.\n",
        "\n",
        "\n",
        "**Biggest Question:** I’m most curious which bots are fully blocked and why IMDb restricts those specific ones.\n"
      ]
    },
    {
      "cell_type": "markdown",
      "metadata": {
        "id": "iTrDyNwebPJo"
      },
      "source": [
        "---\n",
        "\n",
        "## Step 2: Text Preparation for Analysis\n",
        "*Building on HW1 Text Processing Skills*\n",
        "\n",
        "Just like in HW1, we need to prepare our text for analysis. But this time, we're preparing for TWO types of analysis: term frequency (like HW1) and sentiment analysis (new!)."
      ]
    },
    {
      "cell_type": "code",
      "execution_count": 17,
      "metadata": {
        "colab": {
          "base_uri": "https://localhost:8080/"
        },
        "id": "eEhW0sOWbPJo",
        "outputId": "a6dee697-92fa-4c0b-f7fe-30ae4c9605ff"
      },
      "outputs": [
        {
          "output_type": "stream",
          "name": "stdout",
          "text": [
            "✅ Stopwords list loaded: 151 words to filter out\n"
          ]
        }
      ],
      "source": [
        "# Enhanced stopwords list (building on HW1)\n",
        "stopwords = [\n",
        "    # Basic stopwords from HW1\n",
        "    \"i\", \"me\", \"my\", \"myself\", \"we\", \"our\", \"ours\", \"ourselves\", \"you\", \"your\", \"yours\",\n",
        "    \"yourself\", \"yourselves\", \"he\", \"him\", \"his\", \"himself\", \"she\", \"her\", \"hers\",\n",
        "    \"herself\", \"it\", \"its\", \"itself\", \"they\", \"them\", \"their\", \"theirs\", \"themselves\",\n",
        "    \"what\", \"which\", \"who\", \"whom\", \"this\", \"that\", \"these\", \"those\", \"am\", \"is\",\n",
        "    \"are\", \"was\", \"were\", \"be\", \"been\", \"being\", \"have\", \"has\", \"had\", \"having\",\n",
        "    \"do\", \"does\", \"did\", \"doing\", \"a\", \"an\", \"the\", \"and\", \"but\", \"if\", \"or\",\n",
        "    \"because\", \"as\", \"until\", \"while\", \"of\", \"at\", \"by\", \"for\", \"with\", \"about\",\n",
        "    \"against\", \"between\", \"into\", \"through\", \"during\", \"before\", \"after\", \"above\",\n",
        "    \"below\", \"to\", \"from\", \"up\", \"down\", \"in\", \"out\", \"on\", \"off\", \"over\", \"under\",\n",
        "    \"again\", \"further\", \"then\", \"once\", \"here\", \"there\", \"when\", \"where\", \"why\",\n",
        "    \"how\", \"all\", \"any\", \"both\", \"each\", \"few\", \"more\", \"most\", \"other\", \"some\",\n",
        "    \"such\", \"no\", \"nor\", \"not\", \"only\", \"own\", \"same\", \"so\", \"than\", \"too\", \"very\",\n",
        "    \"s\", \"t\", \"can\", \"will\", \"just\", \"don\", \"should\", \"now\", \"ve\", \"ll\", \"amp\",\n",
        "\n",
        "    # Additional common words for cultural data\n",
        "    \"also\", \"would\", \"could\", \"get\", \"go\", \"one\", \"two\", \"see\", \"time\", \"way\", \"may\",\n",
        "    \"said\", \"say\", \"new\", \"first\", \"last\", \"long\", \"little\", \"much\", \"well\", \"still\"\n",
        "]\n",
        "\n",
        "print(f\"✅ Stopwords list loaded: {len(stopwords)} words to filter out\")"
      ]
    },
    {
      "cell_type": "code",
      "execution_count": 12,
      "metadata": {
        "colab": {
          "base_uri": "https://localhost:8080/"
        },
        "id": "szpc3e30bPJo",
        "outputId": "5e4dcfe9-d399-40ed-f9ed-eb3ffa5e45d2"
      },
      "outputs": [
        {
          "output_type": "stream",
          "name": "stdout",
          "text": [
            "✅ Text processing functions ready\n"
          ]
        }
      ],
      "source": [
        "# Text processing functions (building on HW1 approach)\n",
        "def split_into_words(text):\n",
        "    \"\"\"Split text into words (same approach as HW1)\"\"\"\n",
        "    if pd.isna(text):  # Handle missing text\n",
        "        return []\n",
        "    lowercase_text = str(text).lower()\n",
        "    # Split text into words by looking for places where letters/numbers are not present\n",
        "    split_words = re.split(\"\\\\W+\", lowercase_text)\n",
        "    return [word for word in split_words if word]  # Remove empty strings\n",
        "\n",
        "def clean_for_sentiment(text):\n",
        "    \"\"\"Clean text for sentiment analysis (keep punctuation!)\"\"\"\n",
        "    if pd.isna(text):\n",
        "        return \"\"\n",
        "    # Keep punctuation and capitalization - VADER needs them!\n",
        "    return str(text).strip()\n",
        "\n",
        "print(\"✅ Text processing functions ready\")"
      ]
    },
    {
      "cell_type": "code",
      "execution_count": 15,
      "metadata": {
        "colab": {
          "base_uri": "https://localhost:8080/"
        },
        "id": "FKQ1J7T_bPJo",
        "outputId": "8ace57a0-ce32-4bd3-c952-14ae11091bf2"
      },
      "outputs": [
        {
          "output_type": "stream",
          "name": "stdout",
          "text": [
            "✅ Text cleaning complete\n",
            "Sample cleaned text for sentiment: /OnThisDay...\n",
            "Sample meaningful words: ['onthisday']\n"
          ]
        }
      ],
      "source": [
        "# Apply text cleaning to your dataset\n",
        "# Replace 'text_column' with your actual column name\n",
        "\n",
        "# Create cleaned text for sentiment analysis (keep punctuation)\n",
        "df['clean_text_sentiment'] = df[text_column].apply(clean_for_sentiment)\n",
        "\n",
        "# Create word lists for term frequency analysis (like HW1)\n",
        "df['words'] = df[text_column].apply(split_into_words)\n",
        "df['meaningful_words'] = df['words'].apply(lambda word_list: [word for word in word_list if word not in stopwords])\n",
        "\n",
        "print(\"✅ Text cleaning complete\")\n",
        "print(f\"Sample cleaned text for sentiment: {df['clean_text_sentiment'].iloc[0][:100]}...\")\n",
        "print(f\"Sample meaningful words: {df['meaningful_words'].iloc[0][:10]}\")"
      ]
    },
    {
      "cell_type": "markdown",
      "metadata": {
        "id": "0E4G54R-bPJp"
      },
      "source": [
        "### Technical Checkpoint 2: Text Cleaning Verification"
      ]
    },
    {
      "cell_type": "code",
      "execution_count": 18,
      "metadata": {
        "colab": {
          "base_uri": "https://localhost:8080/"
        },
        "id": "rK8N0KD-bPJp",
        "outputId": "51406917-37a2-454a-9a9d-2668b5c91d9b"
      },
      "outputs": [
        {
          "output_type": "stream",
          "name": "stdout",
          "text": [
            "Original: /OnThisDay\n",
            "For sentiment: /OnThisDay\n",
            "Meaningful words: ['onthisday']\n"
          ]
        }
      ],
      "source": [
        "# Checkpoint 2: Check your cleaning worked\n",
        "sample_text = df[text_column].iloc[0]\n",
        "print(f\"Original: {sample_text[:100]}\")\n",
        "print(f\"For sentiment: {df['clean_text_sentiment'].iloc[0][:100]}\")\n",
        "print(f\"Meaningful words: {df['meaningful_words'].iloc[0][:15]}\")\n",
        "# Should show: sentiment text keeps punctuation, meaningful words exclude stopwords"
      ]
    },
    {
      "cell_type": "markdown",
      "metadata": {
        "id": "UnmOKh2xbPJp"
      },
      "source": [
        "---\n",
        "\n",
        "## Step 3: Term Frequency Analysis\n",
        "*Building on HW1 Word Counting Skills*\n",
        "\n",
        "Now let's analyze which words appear most frequently in your cultural dataset, just like you did in HW1 but with more sophisticated text processing."
      ]
    },
    {
      "cell_type": "code",
      "execution_count": 20,
      "metadata": {
        "colab": {
          "base_uri": "https://localhost:8080/"
        },
        "id": "LVwxnRfQbPJp",
        "outputId": "a7763852-fc6f-4233-ad46-03b963f5b48c"
      },
      "outputs": [
        {
          "output_type": "stream",
          "name": "stdout",
          "text": [
            "🔤 TERM FREQUENCY ANALYSIS RESULTS\n",
            "========================================\n",
            "Total words analyzed: 104\n",
            "Unique words found: 43\n",
            "\n",
            "Top 20 most frequent words:\n",
            " 1. search          (6 times)\n",
            " 2. find            (6 times)\n",
            " 3. user            (6 times)\n",
            " 4. text            (4 times)\n",
            " 5. title           (4 times)\n",
            " 6. ur              (4 times)\n",
            " 7. onthisday       (2 times)\n",
            " 8. ads             (2 times)\n",
            " 9. ap              (2 times)\n",
            "10. mymovies        (2 times)\n",
            "11. register        (2 times)\n",
            "12. registration    (2 times)\n",
            "13. name            (2 times)\n",
            "14. updates         (2 times)\n",
            "15. title_type      (2 times)\n",
            "16. feature         (2 times)\n",
            "17. tv_movie        (2 times)\n",
            "18. tv_miniseries   (2 times)\n",
            "19. documentary     (2 times)\n",
            "20. short           (2 times)\n"
          ]
        }
      ],
      "source": [
        "# Combine all meaningful words from your dataset (like HW1)\n",
        "all_meaningful_words = []\n",
        "for word_list in df['meaningful_words']:\n",
        "    all_meaningful_words.extend(word_list)\n",
        "\n",
        "# Count word frequencies (same as HW1)\n",
        "word_frequency = Counter(all_meaningful_words)\n",
        "top_words = word_frequency.most_common(20)  # Get top 20 words\n",
        "\n",
        "print(\"🔤 TERM FREQUENCY ANALYSIS RESULTS\")\n",
        "print(\"=\" * 40)\n",
        "print(f\"Total words analyzed: {len(all_meaningful_words):,}\")\n",
        "print(f\"Unique words found: {len(word_frequency):,}\")\n",
        "print(f\"\\nTop 20 most frequent words:\")\n",
        "\n",
        "for i, (word, count) in enumerate(top_words, 1):\n",
        "    print(f\"{i:2d}. {word:<15} ({count:,} times)\")"
      ]
    },
    {
      "cell_type": "code",
      "execution_count": 22,
      "metadata": {
        "colab": {
          "base_uri": "https://localhost:8080/",
          "height": 677
        },
        "id": "Qbk2fuTXbPJp",
        "outputId": "971eace0-632f-4d3c-9515-7775aac8a650"
      },
      "outputs": [
        {
          "output_type": "display_data",
          "data": {
            "text/plain": [
              "<Figure size 1200x800 with 1 Axes>"
            ],
            "image/png": "[encoded data removed]"
          },
          "metadata": {}
        },
        {
          "output_type": "stream",
          "name": "stdout",
          "text": [
            "📊 Term frequency visualization complete!\n"
          ]
        }
      ],
      "source": [
        "# Create visualization of top words\n",
        "words = [word for word, count in top_words]\n",
        "counts = [count for word, count in top_words]\n",
        "\n",
        "plt.figure(figsize=(12, 8))\n",
        "plt.barh(range(len(words)), counts, color='skyblue')\n",
        "plt.yticks(range(len(words)), words)\n",
        "plt.xlabel('Frequency')\n",
        "plt.title(f'Top {len(words)} Most Frequent Words in Your Cultural Dataset')\n",
        "plt.gca().invert_yaxis()  # Put highest frequency at top\n",
        "\n",
        "# Add count labels on bars\n",
        "for i, count in enumerate(counts):\n",
        "    plt.text(count + max(counts)*0.01, i, str(count), va='center')\n",
        "\n",
        "plt.tight_layout()\n",
        "plt.show()\n",
        "\n",
        "print(\"📊 Term frequency visualization complete!\")"
      ]
    },
    {
      "cell_type": "markdown",
      "metadata": {
        "id": "_q3NWBDXbPJp"
      },
      "source": [
        "### 📝 Term Frequency Reflection:\n",
        "\n",
        "**Prediction Check:** \"Search\", \"find,\" and \"user\" are the top words. The ones that surprised me most are, \"ur,\" \"tv_movie,\" and documentary.\"\n",
        "\n",
        "\n",
        "**New Discoveries:** \"Ur\" is a new discovery. Media categories also appeared like \"tv_movie,\" and \"documentary,\" which reveal targeted blocking of specific search facets.\n",
        "\n",
        "\n",
        "**Questions for Sentiment Analysis:** I now want to explore more about if sentiment is neutral across all user agent groups."
      ]
    },
    {
      "cell_type": "markdown",
      "metadata": {
        "id": "CmSht0tWbPJp"
      },
      "source": [
        "---\n",
        "\n",
        "## Step 4: Sentiment Analysis with VADER\n",
        "*Building on VADER CodeAlong Skills*\n",
        "\n",
        "Now let's analyze the emotional tone of your cultural texts using VADER, focusing on the compound sentiment scores."
      ]
    },
    {
      "cell_type": "code",
      "execution_count": 23,
      "metadata": {
        "colab": {
          "base_uri": "https://localhost:8080/"
        },
        "id": "nVBeNEKzbPJp",
        "outputId": "f85324e6-6628-42a4-bbf7-40784feb7d09"
      },
      "outputs": [
        {
          "output_type": "stream",
          "name": "stdout",
          "text": [
            "Collecting vaderSentiment\n",
            "  Downloading vaderSentiment-3.3.2-py2.py3-none-any.whl.metadata (572 bytes)\n",
            "Requirement already satisfied: requests in /usr/local/lib/python3.12/dist-packages (from vaderSentiment) (2.32.4)\n",
            "Requirement already satisfied: charset_normalizer<4,>=2 in /usr/local/lib/python3.12/dist-packages (from requests->vaderSentiment) (3.4.3)\n",
            "Requirement already satisfied: idna<4,>=2.5 in /usr/local/lib/python3.12/dist-packages (from requests->vaderSentiment) (3.10)\n",
            "Requirement already satisfied: urllib3<3,>=1.21.1 in /usr/local/lib/python3.12/dist-packages (from requests->vaderSentiment) (2.5.0)\n",
            "Requirement already satisfied: certifi>=2017.4.17 in /usr/local/lib/python3.12/dist-packages (from requests->vaderSentiment) (2025.8.3)\n",
            "Downloading vaderSentiment-3.3.2-py2.py3-none-any.whl (125 kB)\n",
            "\u001b[2K   \u001b[90m━━━━━━━━━━━━━━━━━━━━━━━━━━━━━━━━━━━━━━━━\u001b[0m \u001b[32m126.0/126.0 kB\u001b[0m \u001b[31m2.7 MB/s\u001b[0m eta \u001b[36m0:00:00\u001b[0m\n",
            "\u001b[?25hInstalling collected packages: vaderSentiment\n",
            "Successfully installed vaderSentiment-3.3.2\n",
            "✅ VADER installed and ready for sentiment analysis!\n"
          ]
        }
      ],
      "source": [
        "# Install and import VADER\n",
        "!pip install vaderSentiment\n",
        "\n",
        "from vaderSentiment.vaderSentiment import SentimentIntensityAnalyzer\n",
        "analyzer = SentimentIntensityAnalyzer()\n",
        "\n",
        "print(\"✅ VADER installed and ready for sentiment analysis!\")"
      ]
    },
    {
      "cell_type": "markdown",
      "metadata": {
        "id": "e37a8KyzbPJp"
      },
      "source": [
        "### Technical Checkpoint 3: VADER Installation/Import"
      ]
    },
    {
      "cell_type": "code",
      "execution_count": 24,
      "metadata": {
        "colab": {
          "base_uri": "https://localhost:8080/"
        },
        "id": "O03z8K3ZbPJp",
        "outputId": "2cc241bd-3366-46df-faa2-85451bc930ed"
      },
      "outputs": [
        {
          "output_type": "stream",
          "name": "stdout",
          "text": [
            "Test text: This assignment is surprisingly interesting!\n",
            "VADER result: {'neg': 0.0, 'neu': 0.366, 'pos': 0.634, 'compound': 0.636}\n"
          ]
        }
      ],
      "source": [
        "# Checkpoint 3: VADER setup\n",
        "test_text = \"This assignment is surprisingly interesting!\"\n",
        "test_result = analyzer.polarity_scores(test_text)\n",
        "print(f\"Test text: {test_text}\")\n",
        "print(f\"VADER result: {test_result}\")\n",
        "# Should see: {'neg': 0.0, 'neu': 0.323, 'pos': 0.677, 'compound': 0.6588} (or similar)"
      ]
    },
    {
      "cell_type": "code",
      "execution_count": 26,
      "metadata": {
        "colab": {
          "base_uri": "https://localhost:8080/"
        },
        "id": "-MFEtcFMbPJp",
        "outputId": "21eac084-9dbd-41f3-e902-656ea302f6b0"
      },
      "outputs": [
        {
          "output_type": "stream",
          "name": "stdout",
          "text": [
            "✅ Sentiment analysis complete for entire dataset!\n",
            "\n",
            "Sentiment score range: 0.000 to 0.000\n",
            "Average sentiment: 0.000\n"
          ]
        }
      ],
      "source": [
        "# Apply sentiment analysis to your entire dataset\n",
        "def get_sentiment_score(text):\n",
        "    \"\"\"Get compound sentiment score for a text\"\"\"\n",
        "    scores = analyzer.polarity_scores(text)\n",
        "    return scores['compound']\n",
        "\n",
        "# Apply sentiment analysis to your entire dataset\n",
        "df['sentiment_score'] = df['clean_text_sentiment'].apply(get_sentiment_score) # Fill in: what function?\n",
        "\n",
        "print(\"✅ Sentiment analysis complete for entire dataset!\")\n",
        "print(f\"\\nSentiment score range: {df['sentiment_score'].min():.3f} to {df['sentiment_score'].max():.3f}\")\n",
        "print(f\"Average sentiment: {df['sentiment_score'].mean():.3f}\")"
      ]
    },
    {
      "cell_type": "code",
      "execution_count": 27,
      "metadata": {
        "colab": {
          "base_uri": "https://localhost:8080/"
        },
        "id": "tih0r_UubPJp",
        "outputId": "d6cc6c88-105f-45df-da1e-1be29c4cc063"
      },
      "outputs": [
        {
          "output_type": "stream",
          "name": "stdout",
          "text": [
            "🎭 SENTIMENT ANALYSIS SUMMARY\n",
            "===================================\n",
            "Total entries analyzed: 47\n",
            "Average sentiment: 0.000\n",
            "Most positive entry: 0.000\n",
            "Most negative entry: 0.000\n",
            "Standard deviation: 0.000\n",
            "\n",
            "Sentiment distribution:\n",
            "Positive (>0.1): 0 (0.0%)\n",
            "Neutral (-0.1 to 0.1): 47 (100.0%)\n",
            "Negative (<-0.1): 0 (0.0%)\n"
          ]
        }
      ],
      "source": [
        "# Analyze sentiment patterns in your data\n",
        "print(\"🎭 SENTIMENT ANALYSIS SUMMARY\")\n",
        "print(\"=\" * 35)\n",
        "\n",
        "# Basic statistics\n",
        "print(f\"Total entries analyzed: {len(df)}\")\n",
        "print(f\"Average sentiment: {df['sentiment_score'].mean():.3f}\")\n",
        "print(f\"Most positive entry: {df['sentiment_score'].max():.3f}\")\n",
        "print(f\"Most negative entry: {df['sentiment_score'].min():.3f}\")\n",
        "print(f\"Standard deviation: {df['sentiment_score'].std():.3f}\")\n",
        "\n",
        "# Categorize sentiments\n",
        "positive = len(df[df['sentiment_score'] > 0.1])\n",
        "neutral = len(df[(df['sentiment_score'] >= -0.1) & (df['sentiment_score'] <= 0.1)])\n",
        "negative = len(df[df['sentiment_score'] < -0.1])\n",
        "\n",
        "print(f\"\\nSentiment distribution:\")\n",
        "print(f\"Positive (>0.1): {positive} ({positive/len(df)*100:.1f}%)\")\n",
        "print(f\"Neutral (-0.1 to 0.1): {neutral} ({neutral/len(df)*100:.1f}%)\")\n",
        "print(f\"Negative (<-0.1): {negative} ({negative/len(df)*100:.1f}%)\")"
      ]
    },
    {
      "cell_type": "code",
      "execution_count": 28,
      "metadata": {
        "colab": {
          "base_uri": "https://localhost:8080/"
        },
        "id": "ijbWQ5a4bPJp",
        "outputId": "c41dbe75-48a2-4714-a65c-e835c37def05"
      },
      "outputs": [
        {
          "output_type": "stream",
          "name": "stdout",
          "text": [
            "📈 MOST POSITIVE ENTRY (score: 0.000):\n",
            "Text: /OnThisDay...\n",
            "\n",
            "📉 MOST NEGATIVE ENTRY (score: 0.000):\n",
            "Text: /OnThisDay...\n"
          ]
        }
      ],
      "source": [
        "# Find most positive and negative examples\n",
        "most_positive = df.loc[df['sentiment_score'].idxmax()]\n",
        "most_negative = df.loc[df['sentiment_score'].idxmin()]\n",
        "\n",
        "print(f\"📈 MOST POSITIVE ENTRY (score: {most_positive['sentiment_score']:.3f}):\")\n",
        "print(f\"Text: {most_positive['clean_text_sentiment'][:200]}...\")\n",
        "print()\n",
        "print(f\"📉 MOST NEGATIVE ENTRY (score: {most_negative['sentiment_score']:.3f}):\")\n",
        "print(f\"Text: {most_negative['clean_text_sentiment'][:200]}...\")"
      ]
    },
    {
      "cell_type": "code",
      "execution_count": 29,
      "metadata": {
        "colab": {
          "base_uri": "https://localhost:8080/",
          "height": 462
        },
        "id": "pcg892BEbPJp",
        "outputId": "71236b59-f2be-42f8-8e56-14e15a96109b"
      },
      "outputs": [
        {
          "output_type": "display_data",
          "data": {
            "text/plain": [
              "<Figure size 1400x600 with 2 Axes>"
            ],
            "image/png": "[encoded data removed]"
          },
          "metadata": {}
        },
        {
          "output_type": "stream",
          "name": "stdout",
          "text": [
            "📊 Sentiment visualizations complete!\n"
          ]
        }
      ],
      "source": [
        "# Create sentiment visualizations\n",
        "fig, axes = plt.subplots(1, 2, figsize=(14, 6))\n",
        "\n",
        "# Sentiment distribution histogram\n",
        "axes[0].hist(df['sentiment_score'], bins=20, color='lightblue', alpha=0.7, edgecolor='black')\n",
        "axes[0].set_title('Distribution of Sentiment Scores')\n",
        "axes[0].set_xlabel('Sentiment Score (-1 to 1)')\n",
        "axes[0].set_ylabel('Number of Entries')\n",
        "axes[0].axvline(0, color='red', linestyle='--', alpha=0.7, label='Neutral')\n",
        "axes[0].axvline(df['sentiment_score'].mean(), color='green', linestyle='--', alpha=0.7, label='Average')\n",
        "axes[0].legend()\n",
        "\n",
        "# Sentiment categories pie chart\n",
        "sentiment_counts = [positive, neutral, negative]\n",
        "sentiment_labels = [f'Positive\\n({positive})', f'Neutral\\n({neutral})', f'Negative\\n({negative})']\n",
        "colors = ['lightgreen', 'lightgray', 'lightcoral']\n",
        "\n",
        "axes[1].pie(sentiment_counts, labels=sentiment_labels, colors=colors, autopct='%1.1f%%')\n",
        "axes[1].set_title('Sentiment Category Distribution')\n",
        "\n",
        "plt.tight_layout()\n",
        "plt.show()\n",
        "\n",
        "print(\"📊 Sentiment visualizations complete!\")"
      ]
    },
    {
      "cell_type": "markdown",
      "metadata": {
        "id": "mvVN67A4bPJp"
      },
      "source": [
        "### Human vs. Automated Sentiment Check\n",
        "\n",
        "Let's test VADER's accuracy by comparing it to your human judgment:"
      ]
    },
    {
      "cell_type": "code",
      "execution_count": 30,
      "metadata": {
        "colab": {
          "base_uri": "https://localhost:8080/"
        },
        "id": "6VRyU3IfbPJp",
        "outputId": "4dd6e68b-11d9-4f57-ccd4-9f6430ee028d"
      },
      "outputs": [
        {
          "output_type": "stream",
          "name": "stdout",
          "text": [
            "🧠 HUMAN vs. VADER SENTIMENT COMPARISON\n",
            "=============================================\n",
            "Read each text below and judge its sentiment, then compare to VADER's score:\n",
            "\n",
            "Text 1:\n",
            "'/find...'\n",
            "VADER Score: 0.000\n",
            "Your Human Judgment: _____ (Positive/Neutral/Negative)\n",
            "Agreement? _____ (Yes/No - explain any differences)\n",
            "\n",
            "Text 2:\n",
            "'/*/user/*...'\n",
            "VADER Score: 0.000\n",
            "Your Human Judgment: _____ (Positive/Neutral/Negative)\n",
            "Agreement? _____ (Yes/No - explain any differences)\n",
            "\n",
            "Text 3:\n",
            "'/find$...'\n",
            "VADER Score: 0.000\n",
            "Your Human Judgment: _____ (Positive/Neutral/Negative)\n",
            "Agreement? _____ (Yes/No - explain any differences)\n",
            "\n",
            "Text 4:\n",
            "'/registration/...'\n",
            "VADER Score: 0.000\n",
            "Your Human Judgment: _____ (Positive/Neutral/Negative)\n",
            "Agreement? _____ (Yes/No - explain any differences)\n",
            "\n",
            "Text 5:\n",
            "'/*/find$...'\n",
            "VADER Score: 0.000\n",
            "Your Human Judgment: _____ (Positive/Neutral/Negative)\n",
            "Agreement? _____ (Yes/No - explain any differences)\n",
            "\n"
          ]
        }
      ],
      "source": [
        "# Sample 5 entries for human vs. VADER comparison\n",
        "sample_entries = df.sample(5)\n",
        "\n",
        "print(\"🧠 HUMAN vs. VADER SENTIMENT COMPARISON\")\n",
        "print(\"=\" * 45)\n",
        "print(\"Read each text below and judge its sentiment, then compare to VADER's score:\\n\")\n",
        "\n",
        "for i, (idx, row) in enumerate(sample_entries.iterrows(), 1):\n",
        "    print(f\"Text {i}:\")\n",
        "    print(f\"'{row['clean_text_sentiment'][:150]}...'\")\n",
        "    print(f\"VADER Score: {row['sentiment_score']:.3f}\")\n",
        "    print(f\"Your Human Judgment: _____ (Positive/Neutral/Negative)\")\n",
        "    print(f\"Agreement? _____ (Yes/No - explain any differences)\")\n",
        "    print()"
      ]
    },
    {
      "cell_type": "markdown",
      "metadata": {
        "id": "_4OhOeC8bPJp"
      },
      "source": [
        "### 📝 Sentiment Analysis Reflection:\n",
        "\n",
        "**Sentiment Patterns:** All the entries were neutral and the scores stayed at 0. This matched the policy expectations. There were no positive or negative entries.\n",
        "\n",
        "\n",
        "**VADER Accuracy:** I agree with VADER, the path strings read neutral. VADER works well on natural language with sentiment words. It does not do well with URLs and codes.\n",
        "\n",
        "**Unexpected Discoveries:** What surprised me the most was that the distribution was perfectly all zero flat. Most positive and most negative were also both identical."
      ]
    },
    {
      "cell_type": "markdown",
      "metadata": {
        "id": "85S0GDiUbPJq"
      },
      "source": [
        "---\n",
        "\n",
        "## Step 5: Integration and Critical Analysis\n",
        "*Connecting Term Frequency and Sentiment Insights*\n",
        "\n",
        "Now let's explore how your term frequency and sentiment findings work together to reveal deeper patterns in your cultural data."
      ]
    },
    {
      "cell_type": "code",
      "execution_count": 31,
      "metadata": {
        "colab": {
          "base_uri": "https://localhost:8080/"
        },
        "id": "eggd566WbPJq",
        "outputId": "cd6b9b1c-5964-4599-890f-09a7cb159d4a"
      },
      "outputs": [
        {
          "output_type": "stream",
          "name": "stdout",
          "text": [
            "🔍 COMPARING WORDS IN POSITIVE vs. NEGATIVE ENTRIES\n",
            "=======================================================\n",
            "Top 10 words in POSITIVE entries (0 entries):\n",
            "\n",
            "Top 10 words in NEGATIVE entries (0 entries):\n"
          ]
        }
      ],
      "source": [
        "# Analyze word frequency in positive vs. negative entries\n",
        "positive_entries = df[df['sentiment_score'] > 0.1]\n",
        "negative_entries = df[df['sentiment_score'] < -0.1]\n",
        "\n",
        "print(\"🔍 COMPARING WORDS IN POSITIVE vs. NEGATIVE ENTRIES\")\n",
        "print(\"=\" * 55)\n",
        "\n",
        "# Get top words from positive entries\n",
        "positive_words = []\n",
        "for word_list in positive_entries['meaningful_words']:\n",
        "    positive_words.extend(word_list)\n",
        "positive_freq = Counter(positive_words)\n",
        "\n",
        "# Get top words from negative entries\n",
        "negative_words = []\n",
        "for word_list in negative_entries['meaningful_words']:\n",
        "    negative_words.extend(word_list)\n",
        "negative_freq = Counter(negative_words)\n",
        "\n",
        "print(f\"Top 10 words in POSITIVE entries ({len(positive_entries)} entries):\")\n",
        "for word, count in positive_freq.most_common(10):\n",
        "    print(f\"  {word:<15} ({count} times)\")\n",
        "\n",
        "print(f\"\\nTop 10 words in NEGATIVE entries ({len(negative_entries)} entries):\")\n",
        "for word, count in negative_freq.most_common(10):\n",
        "    print(f\"  {word:<15} ({count} times)\")"
      ]
    },
    {
      "cell_type": "code",
      "execution_count": 32,
      "metadata": {
        "colab": {
          "base_uri": "https://localhost:8080/",
          "height": 376
        },
        "id": "A60uiQJKbPJq",
        "outputId": "a1a00682-8f55-4bc9-88c0-d422400789c0"
      },
      "outputs": [
        {
          "output_type": "display_data",
          "data": {
            "text/plain": [
              "<Figure size 1600x600 with 2 Axes>"
            ],
            "image/png": "[encoded data removed]"
          },
          "metadata": {}
        }
      ],
      "source": [
        "# Create comparison visualization\n",
        "\n",
        "#I am not sure if this part is correct, as nothing is displayed below. I think I may have done a step wrong however have attempted changing and nothing works.\n",
        "fig, axes = plt.subplots(1, 2, figsize=(16, 6))\n",
        "\n",
        "# Positive words\n",
        "pos_words = [word for word, count in positive_freq.most_common(10)]\n",
        "pos_counts = [count for word, count in positive_freq.most_common(10)]\n",
        "\n",
        "axes[0].barh(range(len(pos_words)), pos_counts, color='lightgreen')\n",
        "axes[0].set_yticks(range(len(pos_words)))\n",
        "axes[0].set_yticklabels(pos_words)\n",
        "axes[0].set_title(f'Top Words in Positive Entries (n={len(positive_entries)})')\n",
        "axes[0].set_xlabel('Frequency')\n",
        "axes[0].invert_yaxis()\n",
        "\n",
        "# Negative words\n",
        "neg_words = [word for word, count in negative_freq.most_common(10)]\n",
        "neg_counts = [count for word, count in negative_freq.most_common(10)]\n",
        "\n",
        "axes[1].barh(range(len(neg_words)), neg_counts, color='lightcoral')\n",
        "axes[1].set_yticks(range(len(neg_words)))\n",
        "axes[1].set_yticklabels(neg_words)\n",
        "axes[1].set_title(f'Top Words in Negative Entries (n={len(negative_entries)})')\n",
        "axes[1].set_xlabel('Frequency')\n",
        "axes[1].invert_yaxis()\n",
        "\n",
        "plt.tight_layout()\n",
        "plt.show()"
      ]
    },
    {
      "cell_type": "markdown",
      "metadata": {
        "id": "PinMJnV0bPJq"
      },
      "source": [
        "### Bridge to Part 2 (HW4-2)\n",
        "\n",
        "Based on your term frequency and sentiment findings, make a prediction about what deeper topics or themes topic modeling might reveal in your data:"
      ]
    },
    {
      "cell_type": "markdown",
      "metadata": {
        "id": "3XM68e_nbPJq"
      },
      "source": [
        "### 📝 Integration Analysis and HW4-2 Prediction:\n",
        "\n",
        "**Combined Insights:** Sentiment is always neutral across all rows. High frequency words group by function like search/find and user/ratings. The groupings are also expected by product not by tone.\n",
        "\n",
        "**Most Revealing Analysis:** Term frequency was more informative out of the two. It showed which site areas IMDb restricts, sentiment added less because the strings are URLs and directives.\n",
        "\n",
        "**Topic Modeling Prediction:** I believe search and discovery will be revealed as well as user accounts and privacy.\n"
      ]
    },
    {
      "cell_type": "markdown",
      "metadata": {
        "id": "RJ98lyJKbPJq"
      },
      "source": [
        "---\n",
        "\n",
        "## Step 6: Final Reflection\n",
        "*From Assumptions to Data-Driven Insights*\n",
        "\n",
        "This final reflection is the heart of the assignment. Think deeply about how your understanding evolved through this analysis process."
      ]
    },
    {
      "cell_type": "markdown",
      "metadata": {
        "id": "VAaO9tBMbPJq"
      },
      "source": [
        "### 📝 Final Reflection (3-4 paragraphs):\n",
        "\n",
        "Address these questions in your reflection:\n",
        "\n",
        "**Evolution of Understanding:** *How did your understanding change from your initial predictions through term frequency, then sentiment analysis? Where were you most wrong, and what did those surprises teach you?*\n",
        "\n",
        "**Computational vs. Traditional Analysis:** *How does this data-driven approach compare to how you might traditionally analyze texts in humanities courses? Consider how this process helps you avoid the trap of cherry-picking evidence to support predetermined conclusions. What are the advantages and limitations of automated analysis?*\n",
        "\n",
        "**Personal Learning:** *What did this process teach you about forming and testing hypotheses? How has your relationship to evidence and conclusions evolved?*\n",
        "\n",
        "**Cultural Insights:** *What did you discover about the cultural phenomenon you studied? What questions does this analysis raise for further research?*\n",
        "\n",
        "---\n",
        "\n",
        "**Write your reflection here:**\n",
        "\n"
      ]
    },
    {
      "cell_type": "markdown",
      "metadata": {
        "id": "YEZuhJCmbPJq"
      },
      "source": [
        "---\n",
        "\n",
        "## Step 7: Save Your Work and Prepare Deliverables\n",
        "\n",
        "Make sure to save all your work and prepare the required files for submission."
      ]
    },
    {
      "cell_type": "code",
      "execution_count": null,
      "metadata": {
        "id": "Hii-CiH4bPJu"
      },
      "outputs": [],
      "source": [
        "# Save your cleaned dataset\n",
        "output_filename = 'LASTNAME_HW4-1_cleaned_data.csv'  # Replace LASTNAME with your actual last name\n",
        "df.to_csv(output_filename, index=False)\n",
        "\n",
        "print(f\"✅ Cleaned dataset saved as: {output_filename}\")\n",
        "print(f\"\\nDataset summary:\")\n",
        "print(f\"- Total entries: {len(df)}\")\n",
        "print(f\"- Columns: {df.columns.tolist()}\")\n",
        "print(f\"- Average sentiment score: {df['sentiment_score'].mean():.3f}\")\n",
        "print(f\"- Most frequent word: '{top_words[0][0]}' ({top_words[0][1]} times)\")"
      ]
    },
    {
      "cell_type": "markdown",
      "metadata": {
        "id": "1TxaNaDmbPJu"
      },
      "source": [
        "### 📋 Submission Checklist\n",
        "\n",
        "Before submitting, make sure you have:\n",
        "\n",
        "- [ ] **Completed all code cells** with your own data and analysis\n",
        "- [ ] **Filled in all prediction and reflection sections** with thoughtful responses\n",
        "- [ ] **Verified your visualizations** display correctly\n",
        "- [ ] **Saved your cleaned dataset** as a CSV file\n",
        "- [ ] **Named your files correctly**: `LASTNAME_HW4-1_F25.ipynb` and `LASTNAME_HW4-1_cleaned_data.csv`\n",
        "\n",
        "### 📤 What to Submit:\n",
        "\n",
        "Submit to your **Pre-Project Practice Files** dropbox:\n",
        "1. **Jupyter Notebook** (`LASTNAME_HW4-1_F25.ipynb`) with all code and markdown responses\n",
        "2. **Clean dataset CSV** (`LASTNAME_HW4-1_cleaned_data.csv`)\n",
        "3. **Visualization PNG files** (if not embedded in notebook)\n",
        "\n",
        "**Due Date**: October 5th\n",
        "\n",
        "---\n",
        "\n",
        "## Looking Ahead to HW4-2\n",
        "\n",
        "You've now completed the first part of your text analysis journey! In **HW4-2**, you'll use topic modeling to discover hidden themes in your dataset and reflect on your complete analytical process.\n",
        "\n",
        "**Keep your cleaned data and insights** - you'll build on this work in the next assignment. The predictions you made about topic modeling will be tested against actual results!\n",
        "\n",
        "Great work on completing your first comprehensive text analysis project! 🎉"
      ]
    }
  ],
  "metadata": {
    "kernelspec": {
      "display_name": "Python 3",
      "language": "python",
      "name": "python3"
    },
    "language_info": {
      "codemirror_mode": {
        "name": "ipython",
        "version": 3
      },
      "file_extension": ".py",
      "mimetype": "text/x-python",
      "name": "python",
      "nbconvert_exporter": "python",
      "pygments_lexer": "ipython3",
      "version": "3.8.5"
    },
    "colab": {
      "provenance": [],
      "include_colab_link": true
    }
  },
  "nbformat": 4,
  "nbformat_minor": 0
}
